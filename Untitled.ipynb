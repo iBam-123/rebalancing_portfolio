{
 "cells": [
  {
   "cell_type": "code",
   "execution_count": null,
   "id": "d7f1f956-8d94-4fcd-827c-1cd316cb9721",
   "metadata": {},
   "outputs": [],
   "source": [
    "with tf.GradientTape() as tape:\n",
    "                    # Get current Q-values\n",
    "                    current_q_values = mainQN(states)\n",
    "                    \n",
    "                    # Get next Q-values from target network\n",
    "                    next_q_values = targetQN(next_states)\n",
    "                    \n",
    "                    # Calculate max Q-values for next states\n",
    "                    max_next_q = tf.reduce_max(next_q_values, axis=1)\n",
    "                    \n",
    "                    # Ensure correct shape before calculating targets\n",
    "                    rewards = tf.reshape(rewards, [-1, 1])\n",
    "                    dones = tf.reshape(dones, [-1, 1])\n",
    "                    max_next_q = tf.reshape(max_next_q, [-1, 1])\n",
    "\n",
    "                    print(\"States shape:\", tf.shape(states))\n",
    "                    print(\"Next states shape:\", tf.shape(next_states))\n",
    "                    print(\"Next Q-values shape:\", tf.shape(next_q_values))\n",
    "                    print(\"Max next Q shape:\", tf.shape(max_next_q))\n",
    "                    \n",
    "                    # Calculate target Q-values\n",
    "                    targets = rewards + (1 - dones) * config.gamma * max_next_q\n",
    "                    \n",
    "                    # Get Q-values for actions taken\n",
    "                    action_masks = tf.one_hot(actions, config.num_actions)\n",
    "                    predicted_q_values = tf.reduce_sum(current_q_values * action_masks, axis=1, keepdims=True)\n",
    "                    \n",
    "                    # Calculate loss\n",
    "                    loss = tf.reduce_mean(tf.square(targets - predicted_q_values))\n"
   ]
  }
 ],
 "metadata": {
  "kernelspec": {
   "display_name": "Python 3 (ipykernel)",
   "language": "python",
   "name": "python3"
  },
  "language_info": {
   "codemirror_mode": {
    "name": "ipython",
    "version": 3
   },
   "file_extension": ".py",
   "mimetype": "text/x-python",
   "name": "python",
   "nbconvert_exporter": "python",
   "pygments_lexer": "ipython3",
   "version": "3.10.5"
  }
 },
 "nbformat": 4,
 "nbformat_minor": 5
}
