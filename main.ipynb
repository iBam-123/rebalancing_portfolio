{
 "cells": [
  {
   "cell_type": "code",
   "execution_count": null,
   "id": "c43e20db-d62e-4ddd-9554-288fb6f72528",
   "metadata": {},
   "outputs": [],
   "source": [
    "!unzip /content/q_learning_stock.zip"
   ]
  },
  {
   "cell_type": "code",
   "execution_count": null,
   "id": "8d20d4a6-c2cf-4904-ab68-522a5a248e16",
   "metadata": {},
   "outputs": [],
   "source": [
    "!python train_wo_predict.py --choose_set_num=1 --stocks=WMT,AXP,MCD --path=data,rl,portfolio2,lagged"
   ]
  },
  {
   "cell_type": "code",
   "execution_count": null,
   "id": "559ba1d7-e220-4e71-9f60-f4c7e5e219e4",
   "metadata": {},
   "outputs": [],
   "source": [
    "!python3 train_wo_predict.py --choose_set_num=1 --stocks=WMT,AXP,MCD --path=data,rl,portfolio2,lagged --load"
   ]
  },
  {
   "cell_type": "code",
   "execution_count": null,
   "id": "0e29deee-f5fe-44b2-8945-1252a1790459",
   "metadata": {},
   "outputs": [],
   "source": [
    "!python lstm_pred.py --stock=WMT --stock_file=portfolio2\n",
    "!python lstm_pred.py --stock=AXP --stock_file=portfolio2\n",
    "!python lstm_pred.py --stock=MCD --stock_file=portfolio2"
   ]
  },
  {
   "cell_type": "code",
   "execution_count": null,
   "id": "2da13535-6627-4956-878a-ce1198ecf1d2",
   "metadata": {},
   "outputs": [],
   "source": [
    "!python train_wo_predict.py --choose_set_num=1 --stocks=WMT,AXP,MCD --path=data,rl,portfolio2,non_lagged"
   ]
  },
  {
   "cell_type": "code",
   "execution_count": null,
   "id": "e72dfb06-419c-4771-981b-e3fca973efab",
   "metadata": {},
   "outputs": [],
   "source": [
    "!python train_wo_predict.py --choose_set_num=1 --stocks=WMT,AXP,MCD --path=data,rl,portfolio2,non_lagged --load"
   ]
  },
  {
   "cell_type": "code",
   "execution_count": null,
   "id": "3b23754a-aacf-4dd7-bc3e-2656523a0d14",
   "metadata": {},
   "outputs": [],
   "source": [
    "!python rl_visual.py --portfolio portfolio4 --stocks=AUD,CAD,USD --approach gradual"
   ]
  },
  {
   "cell_type": "code",
   "execution_count": null,
   "id": "a9ccaa3a-58a0-46b1-a87c-0270ac237b83",
   "metadata": {},
   "outputs": [],
   "source": [
    "!python rl_visual.py --portfolio portfolio4 --stocks=AUD,CAD,USD --approach gradual --predict"
   ]
  },
  {
   "cell_type": "code",
   "execution_count": null,
   "id": "005df8e5-a9a0-42bc-9853-b17604589833",
   "metadata": {},
   "outputs": [],
   "source": [
    "!python train_wo_predict.py --choose_set_num=1 --stocks=WMT,AXP,MCD --path=data,rl,portfolio2,fs_lagged --full_swing"
   ]
  },
  {
   "cell_type": "code",
   "execution_count": null,
   "id": "8730bc54-fd54-4e68-9820-6cbcffe86ae9",
   "metadata": {},
   "outputs": [],
   "source": [
    "!python train_wo_predict.py --choose_set_num=1 --stocks=WMT,AXP,MCD --path=data,rl,portfolio2,fs_lagged --load --full_swing"
   ]
  },
  {
   "cell_type": "code",
   "execution_count": null,
   "id": "734ad6cc-bbee-41ab-9ed1-ab8db44bfbff",
   "metadata": {},
   "outputs": [],
   "source": [
    "python3 lstm_pred.py --stock=WMT --stock_file=portfolio2"
   ]
  },
  {
   "cell_type": "code",
   "execution_count": null,
   "id": "578dcfa5-74db-4108-b306-a1eb27ffd7ef",
   "metadata": {},
   "outputs": [],
   "source": [
    "python3 lstm_pred.py --stock=AXP --stock_file=portfolio2"
   ]
  },
  {
   "cell_type": "code",
   "execution_count": null,
   "id": "f4da8042-4157-4bab-9268-0cc89c38b6c8",
   "metadata": {},
   "outputs": [],
   "source": [
    "python3 lstm_pred.py --stock=MCD --stock_file=portfolio2"
   ]
  },
  {
   "cell_type": "code",
   "execution_count": null,
   "id": "cce0fcca-27a4-40a8-84da-0fb9bde46805",
   "metadata": {},
   "outputs": [],
   "source": [
    "!python train_wo_predict.py --choose_set_num=1 --stocks=WMT,AXP,MCD --path=data,rl,portfolio2,fs_non_lagged --full_swing"
   ]
  },
  {
   "cell_type": "code",
   "execution_count": null,
   "id": "251e43e8-8b37-4684-9ed1-342b3056a818",
   "metadata": {},
   "outputs": [],
   "source": [
    "!python train_wo_predict.py --choose_set_num=1 --stocks=WMT,AXP,MCD --path=data,rl,portfolio2,fs_non_lagged --load --full_swing"
   ]
  },
  {
   "cell_type": "code",
   "execution_count": null,
   "id": "55ca7555-c335-4c1a-8c59-dc27348dc546",
   "metadata": {},
   "outputs": [],
   "source": [
    "!python rl_visual.py --portfolio portfolio4 --stocks=AUD,CAD,USD --approach full_swing"
   ]
  },
  {
   "cell_type": "code",
   "execution_count": null,
   "id": "7df8c526-a352-45a8-a70b-f5c484e05b3d",
   "metadata": {},
   "outputs": [],
   "source": [
    "!python rl_visual.py --portfolio portfolio4 --stocks=AUD,CAD,USD --approach full_swing -- predict"
   ]
  },
  {
   "cell_type": "code",
   "execution_count": 2,
   "id": "988a74cc-ef96-47ce-b6bf-1dc035e484a6",
   "metadata": {},
   "outputs": [
    {
     "name": "stderr",
     "output_type": "stream",
     "text": [
      "The system cannot find the file specified.\n",
      "The system cannot find the file specified.\n",
      "The system cannot find the file specified.\n",
      "The system cannot find the file specified.\n",
      "The system cannot find the file specified.\n",
      "The system cannot find the file specified.\n",
      "The system cannot find the file specified.\n"
     ]
    }
   ],
   "source": [
    "!rmdir /s /q data\\rl\\portofolio3\n",
    "!rmdir /s /q data\\rl\\portofolio4\n",
    "!rmdir /s /q data\\rl\\portofolio5\n",
    "!rmdir /s /q data\\rl\\portofolio6\n",
    "!rmdir /s /q data\\rl\\portofolio7\n",
    "!rmdir /s /q data\\rl\\portofolio8\n",
    "!rmdir /s /q data\\rl\\portofolio9"
   ]
  },
  {
   "cell_type": "code",
   "execution_count": 4,
   "id": "3dc34105-5513-4fa5-8611-a89b13650327",
   "metadata": {},
   "outputs": [
    {
     "name": "stderr",
     "output_type": "stream",
     "text": [
      "The system cannot find the file specified.\n",
      "The system cannot find the file specified.\n",
      "The system cannot find the file specified.\n",
      "The system cannot find the file specified.\n",
      "The system cannot find the file specified.\n"
     ]
    }
   ],
   "source": [
    "!rmdir /s /q data\\rl\\portofolio5\n",
    "!rmdir /s /q data\\rl\\portofolio6\n",
    "!rmdir /s /q data\\rl\\portofolio7\n",
    "!rmdir /s /q data\\rl\\portofolio8\n",
    "!rmdir /s /q data\\rl\\portofolio9"
   ]
  },
  {
   "cell_type": "code",
   "execution_count": 6,
   "id": "d831150d-78d0-4d50-89b9-6b531fe60112",
   "metadata": {},
   "outputs": [
    {
     "ename": "SyntaxError",
     "evalue": "incomplete input (1099346347.py, line 5)",
     "output_type": "error",
     "traceback": [
      "\u001b[1;36m  Cell \u001b[1;32mIn[6], line 5\u001b[1;36m\u001b[0m\n\u001b[1;33m    \"CADSSA=X\", \"CNYGOVT=X\", \"JPYGOVT=X\", \"EMLC=X\"\u001b[0m\n\u001b[1;37m                                                  ^\u001b[0m\n\u001b[1;31mSyntaxError\u001b[0m\u001b[1;31m:\u001b[0m incomplete input\n"
     ]
    }
   ],
   "source": [
    "assets = [\n",
    "    \"USDSSA=X\", \"EMUSDINT=X\", \"EMUSDEXT=X\", \"USMBSINT=X\", \"USMBSEXT=X\",\n",
    "    \"USCORPINT=X\", \"USCORPEXT=X\", \"EURGOVT=X\", \"EURSSA=X\", \"GBPGOVT=X\",\n",
    "    \"GBPSA=X\", \"AUDGOVT=X\", \"AUDSSA=X\", \"NZDGOVT=X\", \"CADGOVT=X\",\n",
    "    \"CADSSA=X\", \"CNYGOVT=X\", \"JPYGOVT=X\", \"EMLC=X\""
   ]
  },
  {
   "cell_type": "code",
   "execution_count": null,
   "id": "59b4b929-7abc-4ba5-92d4-8bce1b1e6dc9",
   "metadata": {},
   "outputs": [],
   "source": [
    "tickers = [\n",
    "    \"GBPUSD=X\",  # British Pound to US Dollar\n",
    "    \"AUDUSD=X\",  # Australian Dollar to US Dollar\n",
    "    \"NZDUSD=X\",  # New Zealand Dollar to US Dollar\n",
    "    \"CADUSD=X\",  # Canadian Dollar to US Dollar\n",
    "    \"CNYUSD=X\",  # Chinese Yuan to US Dollar\n",
    "    \"JPYUSD=X\",  # Japanese Yen to US Dollar\n",
    "    \"EMLC\",      # iShares J.P. Morgan EM Local Currency Bond ETF\n",
    "    \"PLNUSD=X\",  # Polish Zloty to US Dollar\n",
    "    \"KRWUSD=X\",  # South Korean Won to US Dollar\n",
    "    \"MYRUSD=X\",  # Malaysian Ringgit to US Dollar\n",
    "    \"SGDUSD=X\"   # Singapore Dollar to US Dollar\n",
    "]"
   ]
  },
  {
   "cell_type": "code",
   "execution_count": 4,
   "id": "3bcbcc47-9c24-44e5-a4b5-727b2c73c06f",
   "metadata": {},
   "outputs": [
    {
     "name": "stderr",
     "output_type": "stream",
     "text": [
      "[*********************100%***********************]  1 of 1 completed\n"
     ]
    },
    {
     "name": "stdout",
     "output_type": "stream",
     "text": [
      "Successfully saved USD data to data/rl/portfolio1/USD.csv\n",
      "\n",
      "First few rows of USD:\n",
      "         Date   Open   High    Low  Close  Volume\n",
      "0  2021-01-04  89.93  89.94  89.42  89.88       0\n",
      "1  2021-01-05  89.90  89.90  89.43  89.44       0\n",
      "2  2021-01-06  89.48  89.80  89.21  89.53       0\n",
      "3  2021-01-07  89.32  89.97  89.32  89.83       0\n",
      "4  2021-01-08  89.83  90.25  89.66  90.10       0\n",
      "\n",
      "==================================================\n",
      "\n"
     ]
    },
    {
     "name": "stderr",
     "output_type": "stream",
     "text": [
      "[*********************100%***********************]  1 of 1 completed\n"
     ]
    },
    {
     "name": "stdout",
     "output_type": "stream",
     "text": [
      "Successfully saved EUR data to data/rl/portfolio1/EUR.csv\n",
      "\n",
      "First few rows of EUR:\n",
      "         Date  Open  High   Low  Close  Volume\n",
      "0  2021-01-01  0.82  0.82  0.82   0.82       0\n",
      "1  2021-01-04  0.82  0.82  0.81   0.82       0\n",
      "2  2021-01-05  0.82  0.82  0.81   0.82       0\n",
      "3  2021-01-06  0.81  0.82  0.81   0.81       0\n",
      "4  2021-01-07  0.81  0.82  0.81   0.81       0\n",
      "\n",
      "==================================================\n",
      "\n"
     ]
    },
    {
     "name": "stderr",
     "output_type": "stream",
     "text": [
      "[*********************100%***********************]  1 of 1 completed\n"
     ]
    },
    {
     "name": "stdout",
     "output_type": "stream",
     "text": [
      "Successfully saved GBP data to data/rl/portfolio1/GBP.csv\n",
      "\n",
      "First few rows of GBP:\n",
      "         Date  Open  High   Low  Close  Volume\n",
      "0  2021-01-01  0.73  0.73  0.73   0.73       0\n",
      "1  2021-01-04  0.73  0.74  0.73   0.73       0\n",
      "2  2021-01-05  0.74  0.74  0.73   0.74       0\n",
      "3  2021-01-06  0.73  0.74  0.73   0.73       0\n",
      "4  2021-01-07  0.73  0.74  0.73   0.73       0\n",
      "\n",
      "==================================================\n",
      "\n"
     ]
    },
    {
     "name": "stderr",
     "output_type": "stream",
     "text": [
      "[*********************100%***********************]  1 of 1 completed\n"
     ]
    },
    {
     "name": "stdout",
     "output_type": "stream",
     "text": [
      "Successfully saved AUD data to data/rl/portfolio1/AUD.csv\n",
      "\n",
      "First few rows of AUD:\n",
      "         Date  Open  High   Low  Close  Volume\n",
      "0  2021-01-01  1.29  1.30  1.22   1.30       0\n",
      "1  2021-01-04  1.30  1.31  1.29   1.30       0\n",
      "2  2021-01-05  1.30  1.30  1.29   1.30       0\n",
      "3  2021-01-06  1.29  1.29  1.28   1.29       0\n",
      "4  2021-01-07  1.28  1.29  1.28   1.28       0\n",
      "\n",
      "==================================================\n",
      "\n"
     ]
    },
    {
     "name": "stderr",
     "output_type": "stream",
     "text": [
      "[*********************100%***********************]  1 of 1 completed\n"
     ]
    },
    {
     "name": "stdout",
     "output_type": "stream",
     "text": [
      "Successfully saved NZD data to data/rl/portfolio1/NZD.csv\n",
      "\n",
      "First few rows of NZD:\n",
      "         Date  Open  High   Low  Close  Volume\n",
      "0  2021-01-01  1.39  1.39  1.33   1.39       0\n",
      "1  2021-01-04  1.39  1.40  1.38   1.39       0\n",
      "2  2021-01-05  1.39  1.39  1.38   1.39       0\n",
      "3  2021-01-06  1.38  1.38  1.37   1.38       0\n",
      "4  2021-01-07  1.37  1.38  1.37   1.37       0\n",
      "\n",
      "==================================================\n",
      "\n"
     ]
    },
    {
     "name": "stderr",
     "output_type": "stream",
     "text": [
      "[*********************100%***********************]  1 of 1 completed\n"
     ]
    },
    {
     "name": "stdout",
     "output_type": "stream",
     "text": [
      "Successfully saved CAD data to data/rl/portfolio1/CAD.csv\n",
      "\n",
      "First few rows of CAD:\n",
      "         Date  Open  High   Low  Close  Volume\n",
      "0  2021-01-01  1.23  1.27  1.23   1.23       0\n",
      "1  2021-01-04  1.27  1.28  1.27   1.27       0\n",
      "2  2021-01-05  1.28  1.28  1.27   1.28       0\n",
      "3  2021-01-06  1.27  1.27  1.26   1.27       0\n",
      "4  2021-01-07  1.27  1.27  1.27   1.27       0\n",
      "\n",
      "==================================================\n",
      "\n"
     ]
    },
    {
     "name": "stderr",
     "output_type": "stream",
     "text": [
      "[*********************100%***********************]  1 of 1 completed\n"
     ]
    },
    {
     "name": "stdout",
     "output_type": "stream",
     "text": [
      "Successfully saved CNY data to data/rl/portfolio1/CNY.csv\n",
      "\n",
      "First few rows of CNY:\n",
      "         Date  Open  High   Low  Close  Volume\n",
      "0  2021-01-01  6.53  6.53  6.53   6.53       0\n",
      "1  2021-01-04  6.53  6.53  6.46   6.53       0\n",
      "2  2021-01-05  6.46  6.47  6.43   6.46       0\n",
      "3  2021-01-06  6.46  6.46  6.44   6.46       0\n",
      "4  2021-01-07  6.46  6.48  6.45   6.46       0\n",
      "\n",
      "==================================================\n",
      "\n"
     ]
    },
    {
     "name": "stderr",
     "output_type": "stream",
     "text": [
      "[*********************100%***********************]  1 of 1 completed\n"
     ]
    },
    {
     "name": "stdout",
     "output_type": "stream",
     "text": [
      "Successfully saved JPY data to data/rl/portfolio1/JPY.csv\n",
      "\n",
      "First few rows of JPY:\n",
      "         Date    Open    High     Low   Close  Volume\n",
      "0  2021-01-01  103.23  103.25  103.23  103.23       0\n",
      "1  2021-01-04  103.24  103.24  102.71  103.24       0\n",
      "2  2021-01-05  103.14  103.18  102.67  103.12       0\n",
      "3  2021-01-06  102.70  103.43  102.59  102.68       0\n",
      "4  2021-01-07  103.03  103.95  102.96  103.02       0\n",
      "\n",
      "==================================================\n",
      "\n"
     ]
    },
    {
     "name": "stderr",
     "output_type": "stream",
     "text": [
      "[*********************100%***********************]  1 of 1 completed\n"
     ]
    },
    {
     "name": "stdout",
     "output_type": "stream",
     "text": [
      "Successfully saved EMLC data to data/rl/portfolio1/EMLC.csv\n",
      "\n",
      "First few rows of EMLC:\n",
      "         Date   Open   High    Low  Close   Volume\n",
      "0  2021-01-04  33.42  33.48  33.25  33.27  1930100\n",
      "1  2021-01-05  33.22  33.39  33.17  33.36  1330200\n",
      "2  2021-01-06  33.26  33.37  33.21  33.27  3063100\n",
      "3  2021-01-07  33.06  33.08  32.81  32.85  3106500\n",
      "4  2021-01-08  32.98  33.03  32.77  32.90  1509900\n",
      "\n",
      "==================================================\n",
      "\n"
     ]
    },
    {
     "name": "stderr",
     "output_type": "stream",
     "text": [
      "[*********************100%***********************]  1 of 1 completed\n"
     ]
    },
    {
     "name": "stdout",
     "output_type": "stream",
     "text": [
      "Successfully saved PLN data to data/rl/portfolio1/PLN.csv\n",
      "\n",
      "First few rows of PLN:\n",
      "         Date  Open  High   Low  Close  Volume\n",
      "0  2021-01-01  3.72  3.75  3.71   3.72       0\n",
      "1  2021-01-04  3.72  3.72  3.69   3.72       0\n",
      "2  2021-01-05  3.72  3.72  3.69   3.72       0\n",
      "3  2021-01-06  3.68  3.69  3.65   3.68       0\n",
      "4  2021-01-07  3.67  3.69  3.66   3.67       0\n",
      "\n",
      "==================================================\n",
      "\n"
     ]
    },
    {
     "name": "stderr",
     "output_type": "stream",
     "text": [
      "[*********************100%***********************]  1 of 1 completed\n"
     ]
    },
    {
     "name": "stdout",
     "output_type": "stream",
     "text": [
      "Successfully saved KRW data to data/rl/portfolio1/KRW.csv\n",
      "\n",
      "First few rows of KRW:\n",
      "         Date     Open     High      Low    Close  Volume\n",
      "0  2021-01-01  1083.50  1088.50  1083.50  1084.65       0\n",
      "1  2021-01-04  1084.73  1086.47  1079.22  1084.73       0\n",
      "2  2021-01-05  1085.61  1089.73  1081.67  1086.62       0\n",
      "3  2021-01-06  1085.65  1088.59  1083.25  1086.45       0\n",
      "4  2021-01-07  1085.25  1096.00  1084.83  1086.95       0\n",
      "\n",
      "==================================================\n",
      "\n"
     ]
    },
    {
     "name": "stderr",
     "output_type": "stream",
     "text": [
      "[*********************100%***********************]  1 of 1 completed\n"
     ]
    },
    {
     "name": "stdout",
     "output_type": "stream",
     "text": [
      "Successfully saved MYR data to data/rl/portfolio1/MYR.csv\n",
      "\n",
      "First few rows of MYR:\n",
      "         Date  Open  High   Low  Close  Volume\n",
      "0  2021-01-01  4.02  4.02  4.02   4.02       0\n",
      "1  2021-01-04  4.01  4.02  3.99   4.02       0\n",
      "2  2021-01-05  4.01  4.02  4.00   4.00       0\n",
      "3  2021-01-06  4.01  4.02  4.00   4.01       0\n",
      "4  2021-01-07  4.01  4.04  4.01   4.01       0\n",
      "\n",
      "==================================================\n",
      "\n"
     ]
    },
    {
     "name": "stderr",
     "output_type": "stream",
     "text": [
      "[*********************100%***********************]  1 of 1 completed"
     ]
    },
    {
     "name": "stdout",
     "output_type": "stream",
     "text": [
      "Successfully saved SGD data to data/rl/portfolio1/SGD.csv\n",
      "\n",
      "First few rows of SGD:\n",
      "         Date  Open  High   Low  Close  Volume\n",
      "0  2021-01-01  1.32  1.32  1.32   1.32       0\n",
      "1  2021-01-04  1.32  1.32  1.32   1.32       0\n",
      "2  2021-01-05  1.32  1.32  1.32   1.32       0\n",
      "3  2021-01-06  1.32  1.32  1.32   1.32       0\n",
      "4  2021-01-07  1.32  1.33  1.32   1.32       0\n",
      "\n",
      "==================================================\n",
      "\n",
      "Process completed.\n"
     ]
    },
    {
     "name": "stderr",
     "output_type": "stream",
     "text": [
      "\n"
     ]
    }
   ],
   "source": [
    "import yfinance as yf\n",
    "import pandas as pd\n",
    "import os\n",
    "# Buat folder jika belum ada\n",
    "#os.makedirs('data/rl/portfolio1/', exist_ok=True)\n",
    "\n",
    "# Daftar aset\n",
    "assets = {\n",
    "    'USD': 'DX-Y.NYB',  # United States Dollar\n",
    "    'EUR': 'EUR=X',     # Euro\n",
    "    'GBP': 'GBP=X',     # British Pound\n",
    "    'AUD': 'AUD=X',     # Australian Dollar\n",
    "    'NZD': 'NZD=X',     # New Zealand Dollar\n",
    "    'CAD': 'CAD=X',     # Canadian Dollar\n",
    "    'CNY': 'CNY=X',     # Chinese Yuan\n",
    "    'JPY': 'JPY=X',     # Japanese Yen\n",
    "    'EMLC': 'EMLC',     # Emerging Markets Local Currency\n",
    "    'PLN': 'PLN=X',     # Polish Zloty\n",
    "    'KRW': 'KRW=X',     # South Korean Won\n",
    "    'MYR': 'MYR=X',     # Malaysian Ringgit\n",
    "    'SGD': 'SGD=X'      # Singapore Dollar\n",
    "}\n",
    "\n",
    "start_date = \"2021-01-01\"\n",
    "end_date = \"2023-12-31\"\n",
    "\n",
    "for asset_name, ticker in assets.items():\n",
    "    try:\n",
    "        # Unduh data\n",
    "        df = yf.download(ticker, start=start_date, end=end_date)\n",
    "\n",
    "        # Pastikan data tidak kosong\n",
    "        if df.empty:\n",
    "            print(f\"Warning: No data found for {asset_name}\")\n",
    "            continue\n",
    "\n",
    "        # Proses data\n",
    "        df = df.reset_index()  # Ubah Date dari index menjadi kolom\n",
    "        df = df[['Date', 'Open', 'High', 'Low', 'Close', 'Volume']]  # Pilih kolom yang diperlukan\n",
    "        df['Date'] = pd.to_datetime(df['Date']).dt.strftime('%Y-%m-%d')\n",
    "\n",
    "        # Bulatkan kolom numerik ke 2 desimal\n",
    "        for col in ['Open', 'High', 'Low', 'Close']:\n",
    "            df[col] = df[col].round(2)\n",
    "\n",
    "        # Bulatkan Volume ke bilangan bulat terdekat\n",
    "        df['Volume'] = df['Volume'].round(0).astype(int)\n",
    "\n",
    "        df = df.sort_values('Date')\n",
    "\n",
    "        # Cek data tidak ada yang hilang\n",
    "        if df.isnull().any().any():\n",
    "            print(f\"Warning: Missing values found in {asset_name}\")\n",
    "            df = df.dropna()  # Hapus baris dengan nilai yang hilang\n",
    "\n",
    "        # Simpan ke CSV dengan header\n",
    "        output_path = f'data/rl/portfolio1/{asset_name}.csv'\n",
    "        df.to_csv(output_path, index=False)\n",
    "        print(f\"Successfully saved {asset_name} data to {output_path}\")\n",
    "\n",
    "        # Baca file CSV yang baru saja disimpan\n",
    "        with open(output_path, 'r') as f:\n",
    "            lines = f.readlines()\n",
    "\n",
    "        # Tulis ulang file tanpa baris yang berisi \"Ticker\" atau ticker symbol\n",
    "        with open(output_path, 'w') as f:\n",
    "            f.write(lines[0])  # Tulis header\n",
    "            for line in lines[1:]:\n",
    "                if 'Ticker' not in line and ticker not in line:\n",
    "                    f.write(line)\n",
    "\n",
    "        # Tampilkan beberapa baris pertama untuk verifikasi\n",
    "        print(f\"\\nFirst few rows of {asset_name}:\")\n",
    "        print(pd.read_csv(output_path).head().to_string())\n",
    "        print(\"\\n\" + \"=\"*50 + \"\\n\")\n",
    "\n",
    "    except Exception as e:\n",
    "        print(f\"Error processing {asset_name}: {str(e)}\")\n",
    "\n",
    "print(\"Process completed.\")"
   ]
  },
  {
   "cell_type": "code",
   "execution_count": 5,
   "id": "ffc49b46-96a2-4bae-a099-73fefcd5a8db",
   "metadata": {},
   "outputs": [
    {
     "name": "stderr",
     "output_type": "stream",
     "text": [
      "[*********************100%***********************]  1 of 1 completed\n"
     ]
    },
    {
     "name": "stdout",
     "output_type": "stream",
     "text": [
      "Successfully saved USD Govt data to data/rl/portfolio2/USD Govt.csv\n",
      "\n",
      "First few rows of USD Govt:\n",
      "         Date   Open   High    Low  Close    Volume\n",
      "0  2019-01-02  24.82  24.85  24.80  24.85  18480500\n",
      "1  2019-01-03  24.87  25.00  24.85  24.99   4059100\n",
      "2  2019-01-04  24.88  24.88  24.83  24.86   2194300\n",
      "3  2019-01-07  24.87  24.89  24.80  24.81   2695400\n",
      "4  2019-01-08  24.79  24.80  24.76  24.76   2176800\n",
      "\n",
      "==================================================\n",
      "\n"
     ]
    },
    {
     "name": "stderr",
     "output_type": "stream",
     "text": [
      "[*********************100%***********************]  1 of 1 completed\n"
     ]
    },
    {
     "name": "stdout",
     "output_type": "stream",
     "text": [
      "Successfully saved USD SSA data to data/rl/portfolio2/USD SSA.csv\n",
      "\n",
      "First few rows of USD SSA:\n",
      "         Date   Open   High    Low  Close  Volume\n",
      "0  2019-01-02  48.43  48.44  48.22  48.40  274000\n",
      "1  2019-01-03  48.45  48.73  48.45  48.73  105600\n",
      "2  2019-01-04  48.42  48.71  48.40  48.66   53500\n",
      "3  2019-01-07  48.69  48.81  48.69  48.80  131200\n",
      "4  2019-01-08  48.53  48.66  48.47  48.55   69600\n",
      "\n",
      "==================================================\n",
      "\n"
     ]
    },
    {
     "name": "stderr",
     "output_type": "stream",
     "text": [
      "[*********************100%***********************]  1 of 1 completed\n"
     ]
    },
    {
     "name": "stdout",
     "output_type": "stream",
     "text": [
      "Successfully saved EMUSD Int. data to data/rl/portfolio2/EMUSD Int..csv\n",
      "\n",
      "First few rows of EMUSD Int.:\n",
      "         Date    Open    High     Low   Close   Volume\n",
      "0  2019-01-02  103.66  104.23  103.57  103.91  4241600\n",
      "1  2019-01-03  103.91  104.71  103.84  104.35  3988000\n",
      "2  2019-01-04  104.56  105.28  104.56  105.14  6787700\n",
      "3  2019-01-07  105.36  105.69  105.24  105.59  8315200\n",
      "4  2019-01-08  105.28  105.54  105.06  105.51  4462200\n",
      "\n",
      "==================================================\n",
      "\n"
     ]
    },
    {
     "name": "stderr",
     "output_type": "stream",
     "text": [
      "[*********************100%***********************]  1 of 1 completed\n"
     ]
    },
    {
     "name": "stdout",
     "output_type": "stream",
     "text": [
      "Successfully saved EMUSD Ext. data to data/rl/portfolio2/EMUSD Ext..csv\n",
      "\n",
      "First few rows of EMUSD Ext.:\n",
      "         Date   Open   High    Low  Close   Volume\n",
      "0  2019-01-02  26.40  26.45  26.34  26.42  1709100\n",
      "1  2019-01-03  26.45  26.53  26.39  26.49  1263000\n",
      "2  2019-01-04  26.55  26.77  26.55  26.77  2464900\n",
      "3  2019-01-07  26.81  26.87  26.77  26.78  2001400\n",
      "4  2019-01-08  26.74  26.82  26.72  26.75   965600\n",
      "\n",
      "==================================================\n",
      "\n"
     ]
    },
    {
     "name": "stderr",
     "output_type": "stream",
     "text": [
      "[*********************100%***********************]  1 of 1 completed\n",
      "[*********************100%***********************]  1 of 1 completed"
     ]
    },
    {
     "name": "stdout",
     "output_type": "stream",
     "text": [
      "Successfully saved US MBS Int. data to data/rl/portfolio2/US MBS Int..csv\n",
      "\n",
      "First few rows of US MBS Int.:\n",
      "         Date    Open    High     Low   Close   Volume\n",
      "0  2019-01-02  104.78  104.92  104.66  104.84  3020500\n",
      "1  2019-01-03  104.85  105.34  104.82  105.23  1462900\n",
      "2  2019-01-04  105.06  105.06  104.86  104.91  1919700\n",
      "3  2019-01-07  104.99  105.02  104.73  104.78  1393800\n",
      "4  2019-01-08  104.71  104.76  104.66  104.70   840500\n",
      "\n",
      "==================================================\n",
      "\n"
     ]
    },
    {
     "name": "stderr",
     "output_type": "stream",
     "text": [
      "\n"
     ]
    },
    {
     "name": "stdout",
     "output_type": "stream",
     "text": [
      "Successfully saved US MBS Ext. data to data/rl/portfolio2/US MBS Ext..csv\n",
      "\n",
      "First few rows of US MBS Ext.:\n",
      "         Date    Open    High     Low   Close   Volume\n",
      "0  2019-01-02  104.78  104.92  104.66  104.84  3020500\n",
      "1  2019-01-03  104.85  105.34  104.82  105.23  1462900\n",
      "2  2019-01-04  105.06  105.06  104.86  104.91  1919700\n",
      "3  2019-01-07  104.99  105.02  104.73  104.78  1393800\n",
      "4  2019-01-08  104.71  104.76  104.66  104.70   840500\n",
      "\n",
      "==================================================\n",
      "\n"
     ]
    },
    {
     "name": "stderr",
     "output_type": "stream",
     "text": [
      "[*********************100%***********************]  1 of 1 completed\n"
     ]
    },
    {
     "name": "stdout",
     "output_type": "stream",
     "text": [
      "Successfully saved US Corp Int. data to data/rl/portfolio2/US Corp Int..csv\n",
      "\n",
      "First few rows of US Corp Int.:\n",
      "         Date    Open    High     Low   Close    Volume\n",
      "0  2019-01-02  112.82  113.19  112.78  113.17   9506500\n",
      "1  2019-01-03  113.00  113.30  112.95  113.22  11199100\n",
      "2  2019-01-04  112.88  113.20  112.81  113.15  12080700\n",
      "3  2019-01-07  113.39  113.46  113.15  113.16  16150100\n",
      "4  2019-01-08  113.21  113.44  113.21  113.41   7961400\n",
      "\n",
      "==================================================\n",
      "\n"
     ]
    },
    {
     "name": "stderr",
     "output_type": "stream",
     "text": [
      "[*********************100%***********************]  1 of 1 completed\n"
     ]
    },
    {
     "name": "stdout",
     "output_type": "stream",
     "text": [
      "Successfully saved US Corp Ext. data to data/rl/portfolio2/US Corp Ext..csv\n",
      "\n",
      "First few rows of US Corp Ext.:\n",
      "         Date   Open   High    Low  Close    Volume\n",
      "0  2019-01-02  80.72  81.11  80.65  80.99  26977400\n",
      "1  2019-01-03  80.91  81.16  80.78  81.03  32776600\n",
      "2  2019-01-04  81.67  82.50  81.57  82.39  38754000\n",
      "3  2019-01-07  82.58  83.19  82.57  83.19  38127600\n",
      "4  2019-01-08  83.39  83.74  83.26  83.73  30795000\n",
      "\n",
      "==================================================\n",
      "\n"
     ]
    },
    {
     "name": "stderr",
     "output_type": "stream",
     "text": [
      "[*********************100%***********************]  1 of 1 completed\n"
     ]
    },
    {
     "name": "stdout",
     "output_type": "stream",
     "text": [
      "Successfully saved EUR Govt data to data/rl/portfolio2/EUR Govt.csv\n",
      "\n",
      "First few rows of EUR Govt:\n",
      "         Date    Open    High     Low   Close  Volume\n",
      "0  2019-01-02  123.00  123.26  123.00  123.08    2464\n",
      "1  2019-01-03  123.14  123.14  122.68  122.79    3129\n",
      "2  2019-01-04  122.79  122.84  122.29  122.29   21852\n",
      "3  2019-01-07  122.31  122.53  122.25  122.37    2723\n",
      "4  2019-01-08  122.28  122.29  122.06  122.14    2004\n",
      "\n",
      "==================================================\n",
      "\n"
     ]
    },
    {
     "name": "stderr",
     "output_type": "stream",
     "text": [
      "[*********************100%***********************]  1 of 1 completed\n"
     ]
    },
    {
     "name": "stdout",
     "output_type": "stream",
     "text": [
      "Successfully saved EUR SSA data to data/rl/portfolio2/EUR SSA.csv\n",
      "\n",
      "First few rows of EUR SSA:\n",
      "         Date   Open   High    Low  Close  Volume\n",
      "0  2019-01-02  26.47  26.60  26.47  26.60  134400\n",
      "1  2019-01-03  26.58  26.69  26.57  26.64  111300\n",
      "2  2019-01-04  26.70  27.00  26.67  26.93  258700\n",
      "3  2019-01-07  27.03  27.08  26.98  26.98  146900\n",
      "4  2019-01-08  26.94  26.98  26.89  26.94   93500\n",
      "\n",
      "==================================================\n",
      "\n"
     ]
    },
    {
     "name": "stderr",
     "output_type": "stream",
     "text": [
      "[*********************100%***********************]  1 of 1 completed\n"
     ]
    },
    {
     "name": "stdout",
     "output_type": "stream",
     "text": [
      "Successfully saved GBP Govt data to data/rl/portfolio2/GBP Govt.csv\n",
      "\n",
      "First few rows of GBP Govt:\n",
      "         Date   Open   High    Low  Close  Volume\n",
      "0  2019-01-02  13.07  13.20  13.07  13.16  453058\n",
      "1  2019-01-03  13.19  13.23  13.13  13.23  152842\n",
      "2  2019-01-04  13.17  13.18  13.10  13.11   99225\n",
      "3  2019-01-07  13.12  13.17  13.12  13.16  150045\n",
      "4  2019-01-08  13.12  13.22  13.11  13.22  552314\n",
      "\n",
      "==================================================\n",
      "\n"
     ]
    },
    {
     "name": "stderr",
     "output_type": "stream",
     "text": [
      "[*********************100%***********************]  1 of 1 completed\n"
     ]
    },
    {
     "name": "stdout",
     "output_type": "stream",
     "text": [
      "Successfully saved GBP SSA data to data/rl/portfolio2/GBP SSA.csv\n",
      "\n",
      "First few rows of GBP SSA:\n",
      "         Date    Open    High     Low   Close  Volume\n",
      "0  2019-01-02  123.56  123.74  123.53  123.45    2546\n",
      "1  2019-01-03  123.77  123.85  123.33  124.01    1958\n",
      "2  2019-01-04  123.36  123.51  123.36  123.36    8451\n",
      "3  2019-01-07  123.55  123.70  123.47  123.58    5671\n",
      "4  2019-01-08  123.13  123.39  123.12  123.22    3031\n",
      "\n",
      "==================================================\n",
      "\n"
     ]
    },
    {
     "name": "stderr",
     "output_type": "stream",
     "text": [
      "[*********************100%***********************]  1 of 1 completed\n",
      "\n",
      "1 Failed download:\n",
      "['IAGG.AX']: YFTzMissingError('$%ticker%: possibly delisted; no timezone found')\n",
      "[*********************100%***********************]  0 of 0 completed\n",
      "[*********************100%***********************]  0 of 0 completed\n"
     ]
    },
    {
     "name": "stdout",
     "output_type": "stream",
     "text": [
      "Warning: No data found for AUD Govt\n",
      "Error processing AUD SSA: No objects to concatenate\n",
      "Error processing NZD Govt: No objects to concatenate\n"
     ]
    },
    {
     "name": "stderr",
     "output_type": "stream",
     "text": [
      "[*********************100%***********************]  1 of 1 completed\n",
      "[*********************100%***********************]  0 of 0 completed\n"
     ]
    },
    {
     "name": "stdout",
     "output_type": "stream",
     "text": [
      "Successfully saved CAD Govt data to data/rl/portfolio2/CAD Govt.csv\n",
      "\n",
      "First few rows of CAD Govt:\n",
      "         Date   Open   High    Low  Close  Volume\n",
      "0  2019-01-02  21.28  21.31  21.26  21.31    1400\n",
      "1  2019-01-03  21.35  21.46  21.33  21.46   12400\n",
      "2  2019-01-04  21.38  21.38  21.31  21.35   11800\n",
      "3  2019-01-07  21.36  21.38  21.32  21.33   16000\n",
      "4  2019-01-08  21.32  21.36  21.30  21.31   60200\n",
      "\n",
      "==================================================\n",
      "\n",
      "Error processing CAD SSA: No objects to concatenate\n"
     ]
    },
    {
     "name": "stderr",
     "output_type": "stream",
     "text": [
      "[*********************100%***********************]  1 of 1 completed\n"
     ]
    },
    {
     "name": "stdout",
     "output_type": "stream",
     "text": [
      "Successfully saved CNY Govt data to data/rl/portfolio2/CNY Govt.csv\n",
      "\n",
      "First few rows of CNY Govt:\n",
      "         Date  Open  High   Low  Close  Volume\n",
      "0  2019-07-24  5.00  5.00  5.00   5.00       0\n",
      "1  2019-07-25  5.00  5.00  5.00   5.00       0\n",
      "2  2019-07-26  4.99  4.99  4.99   4.99       0\n",
      "3  2019-07-29  4.98  4.98  4.98   4.98       0\n",
      "4  2019-07-30  4.99  4.99  4.99   4.99       0\n",
      "\n",
      "==================================================\n",
      "\n"
     ]
    },
    {
     "name": "stderr",
     "output_type": "stream",
     "text": [
      "[*********************100%***********************]  1 of 1 completed\n",
      "\n",
      "1 Failed download:\n",
      "['JGBB']: YFTzMissingError('$%ticker%: possibly delisted; no timezone found')\n"
     ]
    },
    {
     "name": "stdout",
     "output_type": "stream",
     "text": [
      "Warning: No data found for JPY Govt\n"
     ]
    },
    {
     "name": "stderr",
     "output_type": "stream",
     "text": [
      "[*********************100%***********************]  1 of 1 completed"
     ]
    },
    {
     "name": "stdout",
     "output_type": "stream",
     "text": [
      "Successfully saved EMLC data to data/rl/portfolio2/EMLC.csv\n",
      "\n",
      "First few rows of EMLC:\n",
      "         Date   Open   High    Low  Close   Volume\n",
      "0  2019-01-02  32.94  33.09  32.93  33.05  1357700\n",
      "1  2019-01-03  33.12  33.20  33.03  33.17  1899000\n",
      "2  2019-01-04  33.20  33.59  33.18  33.56  3030100\n",
      "3  2019-01-07  33.72  33.83  33.69  33.79  4666900\n",
      "4  2019-01-08  33.66  33.68  33.57  33.62  1243600\n",
      "\n",
      "==================================================\n",
      "\n",
      "Process completed.\n"
     ]
    },
    {
     "name": "stderr",
     "output_type": "stream",
     "text": [
      "\n"
     ]
    }
   ],
   "source": [
    "import yfinance as yf\n",
    "import pandas as pd\n",
    "import os\n",
    "\n",
    "# Buat folder jika belum ada\n",
    "#os.makedirs('data/rl/portfolio_custom/', exist_ok=True)\n",
    "\n",
    "# Daftar aset\n",
    "assets = {\n",
    "    'USD Govt': 'GOVT',             # iShares U.S. Treasury Bond ETF\n",
    "    'USD SSA': 'IGOV',              # iShares International Treasury Bond ETF (perkiraan untuk supranational bonds)\n",
    "    'EMUSD Int.': 'EMB',            # iShares J.P. Morgan USD Emerging Markets Bond ETF\n",
    "    'EMUSD Ext.': 'PCY',            # Invesco Emerging Markets Sovereign Debt Portfolio ETF\n",
    "    'US MBS Int.': 'MBB',           # iShares MBS ETF\n",
    "    'US MBS Ext.': 'MBB',           # Tidak ada ETF high-yield khusus MBS, gunakan MBB\n",
    "    'US Corp Int.': 'LQD',          # iShares iBoxx $ Investment Grade Corporate Bond ETF\n",
    "    'US Corp Ext.': 'HYG',          # iShares iBoxx $ High Yield Corporate Bond ETF\n",
    "    'EUR Govt': 'IEGA.L',           # iShares Euro Government Bond ETF (untuk pasar Eropa, LSE ticker)\n",
    "    'EUR SSA': 'EBND',              # SPDR Bloomberg Barclays Euro Government Bond ETF (perkiraan)\n",
    "    'GBP Govt': 'IGLT.L',           # iShares UK Gilts ETF (LSE ticker)\n",
    "    'GBP SSA': 'ISXF.L',            # iShares UK Index Linked Gilts ETF (perkiraan, LSE ticker)\n",
    "    'AUD Govt': 'IAGG.AX',          # iShares Australian Government Bond Index ETF\n",
    "    'AUD SSA': '',                  # Tidak ada ETF spesifik untuk AUD SSA\n",
    "    'NZD Govt': '',                 # Tidak ada ETF untuk NZD Govt\n",
    "    'CAD Govt': 'XGB.TO',           # iShares Canadian Government Bond Index ETF\n",
    "    'CAD SSA': '',                  # Tidak ada ETF spesifik untuk CAD SSA\n",
    "    'CNY Govt': 'CNYB.L',           # iShares China CNY Bond UCITS ETF\n",
    "    'JPY Govt': 'JGBB',             # iShares JP Morgan JGB ETF\n",
    "    'EMLC': 'EMLC'                  # VanEck Vectors J.P. Morgan EM Local Currency Bond ETF\n",
    "}\n",
    "\n",
    "start_date = \"2019-01-01\"\n",
    "end_date = \"2023-12-31\"\n",
    "\n",
    "for asset_name, ticker in assets.items():\n",
    "    try:\n",
    "        # Unduh data\n",
    "        df = yf.download(ticker, start=start_date, end=end_date)\n",
    "\n",
    "        # Pastikan data tidak kosong\n",
    "        if df.empty:\n",
    "            print(f\"Warning: No data found for {asset_name}\")\n",
    "            continue\n",
    "\n",
    "        # Proses data\n",
    "        df = df.reset_index()  # Ubah Date dari index menjadi kolom\n",
    "        df = df[['Date', 'Open', 'High', 'Low', 'Close', 'Volume']]  # Pilih kolom yang diperlukan\n",
    "        df['Date'] = pd.to_datetime(df['Date']).dt.strftime('%Y-%m-%d')\n",
    "\n",
    "        # Bulatkan kolom numerik ke 2 desimal\n",
    "        for col in ['Open', 'High', 'Low', 'Close']:\n",
    "            df[col] = df[col].round(2)\n",
    "\n",
    "        # Bulatkan Volume ke bilangan bulat terdekat\n",
    "        df['Volume'] = df['Volume'].round(0).astype(int)\n",
    "\n",
    "        df = df.sort_values('Date')\n",
    "\n",
    "        # Cek data tidak ada yang hilang\n",
    "        if df.isnull().any().any():\n",
    "            print(f\"Warning: Missing values found in {asset_name}\")\n",
    "            df = df.dropna()  # Hapus baris dengan nilai yang hilang\n",
    "\n",
    "        # Simpan ke CSV dengan header\n",
    "        output_path = f'data/rl/portfolio2/{asset_name}.csv'\n",
    "        df.to_csv(output_path, index=False)\n",
    "        print(f\"Successfully saved {asset_name} data to {output_path}\")\n",
    "\n",
    "        # Baca file CSV yang baru saja disimpan\n",
    "        with open(output_path, 'r') as f:\n",
    "            lines = f.readlines()\n",
    "\n",
    "        # Tulis ulang file tanpa baris yang berisi \"Ticker\" atau ticker symbol\n",
    "        with open(output_path, 'w') as f:\n",
    "            f.write(lines[0])  # Tulis header\n",
    "            for line in lines[1:]:\n",
    "                if 'Ticker' not in line and ticker not in line:\n",
    "                    f.write(line)\n",
    "\n",
    "        # Tampilkan beberapa baris pertama untuk verifikasi\n",
    "        print(f\"\\nFirst few rows of {asset_name}:\")\n",
    "        print(pd.read_csv(output_path).head().to_string())\n",
    "        print(\"\\n\" + \"=\"*50 + \"\\n\")\n",
    "\n",
    "    except Exception as e:\n",
    "        print(f\"Error processing {asset_name}: {str(e)}\")\n",
    "\n",
    "print(\"Process completed.\")"
   ]
  },
  {
   "cell_type": "code",
   "execution_count": 3,
   "id": "d9596894-b70e-499c-81c4-d6f6c98b5da3",
   "metadata": {},
   "outputs": [
    {
     "name": "stdout",
     "output_type": "stream",
     "text": [
      "Collecting yfinance\n",
      "  Downloading yfinance-0.2.48-py2.py3-none-any.whl.metadata (13 kB)\n",
      "Requirement already satisfied: pandas>=1.3.0 in c:\\users\\i b a m\\appdata\\local\\programs\\python\\python310\\lib\\site-packages (from yfinance) (2.1.1)\n",
      "Requirement already satisfied: numpy>=1.16.5 in c:\\users\\i b a m\\appdata\\local\\programs\\python\\python310\\lib\\site-packages (from yfinance) (1.24.1)\n",
      "Requirement already satisfied: requests>=2.31 in c:\\users\\i b a m\\appdata\\local\\programs\\python\\python310\\lib\\site-packages (from yfinance) (2.32.3)\n",
      "Collecting multitasking>=0.0.7 (from yfinance)\n",
      "  Downloading multitasking-0.0.11-py3-none-any.whl.metadata (5.5 kB)\n",
      "Collecting lxml>=4.9.1 (from yfinance)\n",
      "  Downloading lxml-5.3.0-cp310-cp310-win_amd64.whl.metadata (3.9 kB)\n",
      "Requirement already satisfied: platformdirs>=2.0.0 in c:\\users\\i b a m\\appdata\\local\\programs\\python\\python310\\lib\\site-packages (from yfinance) (3.11.0)\n",
      "Requirement already satisfied: pytz>=2022.5 in c:\\users\\i b a m\\appdata\\local\\programs\\python\\python310\\lib\\site-packages (from yfinance) (2023.3.post1)\n",
      "Collecting frozendict>=2.3.4 (from yfinance)\n",
      "  Downloading frozendict-2.4.6-cp310-cp310-win_amd64.whl.metadata (23 kB)\n",
      "Collecting peewee>=3.16.2 (from yfinance)\n",
      "  Downloading peewee-3.17.7.tar.gz (939 kB)\n",
      "     ---------------------------------------- 0.0/939.5 kB ? eta -:--:--\n",
      "     ---------------------------------------- 0.0/939.5 kB ? eta -:--:--\n",
      "     ----------- ---------------------------- 262.1/939.5 kB ? eta -:--:--\n",
      "     -------------------- --------------- 524.3/939.5 kB 929.6 kB/s eta 0:00:01\n",
      "     -------------------- --------------- 524.3/939.5 kB 929.6 kB/s eta 0:00:01\n",
      "     ------------------------------ ----- 786.4/939.5 kB 907.1 kB/s eta 0:00:01\n",
      "     ------------------------------------ 939.5/939.5 kB 760.2 kB/s eta 0:00:00\n",
      "  Installing build dependencies: started\n",
      "  Installing build dependencies: finished with status 'done'\n",
      "  Getting requirements to build wheel: started\n",
      "  Getting requirements to build wheel: finished with status 'done'\n",
      "  Preparing metadata (pyproject.toml): started\n",
      "  Preparing metadata (pyproject.toml): finished with status 'done'\n",
      "Requirement already satisfied: beautifulsoup4>=4.11.1 in c:\\users\\i b a m\\appdata\\local\\programs\\python\\python310\\lib\\site-packages (from yfinance) (4.12.2)\n",
      "Collecting html5lib>=1.1 (from yfinance)\n",
      "  Downloading html5lib-1.1-py2.py3-none-any.whl.metadata (16 kB)\n",
      "Requirement already satisfied: soupsieve>1.2 in c:\\users\\i b a m\\appdata\\local\\programs\\python\\python310\\lib\\site-packages (from beautifulsoup4>=4.11.1->yfinance) (2.5)\n",
      "Requirement already satisfied: six>=1.9 in c:\\users\\i b a m\\appdata\\local\\programs\\python\\python310\\lib\\site-packages (from html5lib>=1.1->yfinance) (1.16.0)\n",
      "Requirement already satisfied: webencodings in c:\\users\\i b a m\\appdata\\local\\programs\\python\\python310\\lib\\site-packages (from html5lib>=1.1->yfinance) (0.5.1)\n",
      "Requirement already satisfied: python-dateutil>=2.8.2 in c:\\users\\i b a m\\appdata\\local\\programs\\python\\python310\\lib\\site-packages (from pandas>=1.3.0->yfinance) (2.8.2)\n",
      "Requirement already satisfied: tzdata>=2022.1 in c:\\users\\i b a m\\appdata\\local\\programs\\python\\python310\\lib\\site-packages (from pandas>=1.3.0->yfinance) (2023.3)\n",
      "Requirement already satisfied: charset-normalizer<4,>=2 in c:\\users\\i b a m\\appdata\\local\\programs\\python\\python310\\lib\\site-packages (from requests>=2.31->yfinance) (2.1.1)\n",
      "Requirement already satisfied: idna<4,>=2.5 in c:\\users\\i b a m\\appdata\\local\\programs\\python\\python310\\lib\\site-packages (from requests>=2.31->yfinance) (3.4)\n",
      "Requirement already satisfied: urllib3<3,>=1.21.1 in c:\\users\\i b a m\\appdata\\local\\programs\\python\\python310\\lib\\site-packages (from requests>=2.31->yfinance) (1.26.13)\n",
      "Requirement already satisfied: certifi>=2017.4.17 in c:\\users\\i b a m\\appdata\\local\\programs\\python\\python310\\lib\\site-packages (from requests>=2.31->yfinance) (2022.12.7)\n",
      "Downloading yfinance-0.2.48-py2.py3-none-any.whl (101 kB)\n",
      "Downloading frozendict-2.4.6-cp310-cp310-win_amd64.whl (37 kB)\n",
      "Downloading html5lib-1.1-py2.py3-none-any.whl (112 kB)\n",
      "Downloading lxml-5.3.0-cp310-cp310-win_amd64.whl (3.8 MB)\n",
      "   ---------------------------------------- 0.0/3.8 MB ? eta -:--:--\n",
      "   -- ------------------------------------- 0.3/3.8 MB ? eta -:--:--\n",
      "   -- ------------------------------------- 0.3/3.8 MB ? eta -:--:--\n",
      "   ----- ---------------------------------- 0.5/3.8 MB 799.2 kB/s eta 0:00:05\n",
      "   -------- ------------------------------- 0.8/3.8 MB 860.9 kB/s eta 0:00:04\n",
      "   -------- ------------------------------- 0.8/3.8 MB 860.9 kB/s eta 0:00:04\n",
      "   -------- ------------------------------- 0.8/3.8 MB 860.9 kB/s eta 0:00:04\n",
      "   -------- ------------------------------- 0.8/3.8 MB 860.9 kB/s eta 0:00:04\n",
      "   ----------- ---------------------------- 1.0/3.8 MB 606.8 kB/s eta 0:00:05\n",
      "   ---------------- ----------------------- 1.6/3.8 MB 769.7 kB/s eta 0:00:03\n",
      "   ------------------- -------------------- 1.8/3.8 MB 825.2 kB/s eta 0:00:03\n",
      "   ---------------------- ----------------- 2.1/3.8 MB 876.7 kB/s eta 0:00:02\n",
      "   ---------------------- ----------------- 2.1/3.8 MB 876.7 kB/s eta 0:00:02\n",
      "   ------------------------ --------------- 2.4/3.8 MB 883.0 kB/s eta 0:00:02\n",
      "   --------------------------- ------------ 2.6/3.8 MB 868.0 kB/s eta 0:00:02\n",
      "   --------------------------- ------------ 2.6/3.8 MB 868.0 kB/s eta 0:00:02\n",
      "   ------------------------------ --------- 2.9/3.8 MB 883.2 kB/s eta 0:00:02\n",
      "   --------------------------------- ------ 3.1/3.8 MB 878.9 kB/s eta 0:00:01\n",
      "   ----------------------------------- ---- 3.4/3.8 MB 911.0 kB/s eta 0:00:01\n",
      "   -------------------------------------- - 3.7/3.8 MB 936.2 kB/s eta 0:00:01\n",
      "   ---------------------------------------- 3.8/3.8 MB 925.5 kB/s eta 0:00:00\n",
      "Downloading multitasking-0.0.11-py3-none-any.whl (8.5 kB)\n",
      "Building wheels for collected packages: peewee\n",
      "  Building wheel for peewee (pyproject.toml): started\n",
      "  Building wheel for peewee (pyproject.toml): finished with status 'done'\n",
      "  Created wheel for peewee: filename=peewee-3.17.7-py3-none-any.whl size=138951 sha256=53139e319343d774b174d23ccff5f2afa7d47cbba903128dabb6709f8bd4f683\n",
      "  Stored in directory: c:\\users\\i b a m\\appdata\\local\\pip\\cache\\wheels\\8d\\0e\\f8\\48eb93a200fca4c502d7590613616fa4d2c9533f7308f9e28a\n",
      "Successfully built peewee\n",
      "Installing collected packages: peewee, multitasking, lxml, html5lib, frozendict, yfinance\n",
      "Successfully installed frozendict-2.4.6 html5lib-1.1 lxml-5.3.0 multitasking-0.0.11 peewee-3.17.7 yfinance-0.2.48\n"
     ]
    }
   ],
   "source": [
    "!pip install yfinance"
   ]
  },
  {
   "cell_type": "code",
   "execution_count": null,
   "id": "f20f5bce-6c89-4722-859d-0e33a400377b",
   "metadata": {},
   "outputs": [],
   "source": []
  }
 ],
 "metadata": {
  "kernelspec": {
   "display_name": "Python 3 (ipykernel)",
   "language": "python",
   "name": "python3"
  },
  "language_info": {
   "codemirror_mode": {
    "name": "ipython",
    "version": 3
   },
   "file_extension": ".py",
   "mimetype": "text/x-python",
   "name": "python",
   "nbconvert_exporter": "python",
   "pygments_lexer": "ipython3",
   "version": "3.10.5"
  }
 },
 "nbformat": 4,
 "nbformat_minor": 5
}
