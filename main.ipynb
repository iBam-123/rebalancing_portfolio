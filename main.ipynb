{
 "cells": [
  {
   "cell_type": "code",
   "execution_count": null,
   "id": "c43e20db-d62e-4ddd-9554-288fb6f72528",
   "metadata": {},
   "outputs": [],
   "source": [
    "!unzip /content/q_learning_stock.zip"
   ]
  },
  {
   "cell_type": "code",
   "execution_count": null,
   "id": "8d20d4a6-c2cf-4904-ab68-522a5a248e16",
   "metadata": {},
   "outputs": [],
   "source": [
    "!python train_wo_predict.py --choose_set_num=1 --stocks=WMT,AXP,MCD --path=data,rl,portfolio2,lagged"
   ]
  },
  {
   "cell_type": "code",
   "execution_count": null,
   "id": "559ba1d7-e220-4e71-9f60-f4c7e5e219e4",
   "metadata": {},
   "outputs": [],
   "source": [
    "!python3 train_wo_predict.py --choose_set_num=1 --stocks=WMT,AXP,MCD --path=data,rl,portfolio2,lagged --load"
   ]
  },
  {
   "cell_type": "code",
   "execution_count": null,
   "id": "0e29deee-f5fe-44b2-8945-1252a1790459",
   "metadata": {},
   "outputs": [],
   "source": [
    "!python lstm_pred.py --stock=WMT --stock_file=portfolio2\n",
    "!python lstm_pred.py --stock=AXP --stock_file=portfolio2\n",
    "!python lstm_pred.py --stock=MCD --stock_file=portfolio2"
   ]
  },
  {
   "cell_type": "code",
   "execution_count": null,
   "id": "2da13535-6627-4956-878a-ce1198ecf1d2",
   "metadata": {},
   "outputs": [],
   "source": [
    "!python train_wo_predict.py --choose_set_num=1 --stocks=WMT,AXP,MCD --path=data,rl,portfolio2,non_lagged"
   ]
  },
  {
   "cell_type": "code",
   "execution_count": null,
   "id": "e72dfb06-419c-4771-981b-e3fca973efab",
   "metadata": {},
   "outputs": [],
   "source": [
    "!python train_wo_predict.py --choose_set_num=1 --stocks=WMT,AXP,MCD --path=data,rl,portfolio2,non_lagged --load"
   ]
  },
  {
   "cell_type": "code",
   "execution_count": null,
   "id": "3b23754a-aacf-4dd7-bc3e-2656523a0d14",
   "metadata": {},
   "outputs": [],
   "source": [
    "!python rl_visual.py --portfolio portfolio4 --stocks=AUD,CAD,USD --approach gradual"
   ]
  },
  {
   "cell_type": "code",
   "execution_count": null,
   "id": "a9ccaa3a-58a0-46b1-a87c-0270ac237b83",
   "metadata": {},
   "outputs": [],
   "source": [
    "!python rl_visual.py --portfolio portfolio4 --stocks=AUD,CAD,USD --approach gradual --predict"
   ]
  },
  {
   "cell_type": "code",
   "execution_count": null,
   "id": "005df8e5-a9a0-42bc-9853-b17604589833",
   "metadata": {},
   "outputs": [],
   "source": [
    "!python train_wo_predict.py --choose_set_num=1 --stocks=WMT,AXP,MCD --path=data,rl,portfolio2,fs_lagged --full_swing"
   ]
  },
  {
   "cell_type": "code",
   "execution_count": null,
   "id": "8730bc54-fd54-4e68-9820-6cbcffe86ae9",
   "metadata": {},
   "outputs": [],
   "source": [
    "!python train_wo_predict.py --choose_set_num=1 --stocks=WMT,AXP,MCD --path=data,rl,portfolio2,fs_lagged --load --full_swing"
   ]
  },
  {
   "cell_type": "code",
   "execution_count": null,
   "id": "734ad6cc-bbee-41ab-9ed1-ab8db44bfbff",
   "metadata": {},
   "outputs": [],
   "source": [
    "python3 lstm_pred.py --stock=WMT --stock_file=portfolio2"
   ]
  },
  {
   "cell_type": "code",
   "execution_count": null,
   "id": "578dcfa5-74db-4108-b306-a1eb27ffd7ef",
   "metadata": {},
   "outputs": [],
   "source": [
    "python3 lstm_pred.py --stock=AXP --stock_file=portfolio2"
   ]
  },
  {
   "cell_type": "code",
   "execution_count": null,
   "id": "f4da8042-4157-4bab-9268-0cc89c38b6c8",
   "metadata": {},
   "outputs": [],
   "source": [
    "python3 lstm_pred.py --stock=MCD --stock_file=portfolio2"
   ]
  },
  {
   "cell_type": "code",
   "execution_count": null,
   "id": "cce0fcca-27a4-40a8-84da-0fb9bde46805",
   "metadata": {},
   "outputs": [],
   "source": [
    "!python train_wo_predict.py --choose_set_num=1 --stocks=WMT,AXP,MCD --path=data,rl,portfolio2,fs_non_lagged --full_swing"
   ]
  },
  {
   "cell_type": "code",
   "execution_count": null,
   "id": "251e43e8-8b37-4684-9ed1-342b3056a818",
   "metadata": {},
   "outputs": [],
   "source": [
    "!python train_wo_predict.py --choose_set_num=1 --stocks=WMT,AXP,MCD --path=data,rl,portfolio2,fs_non_lagged --load --full_swing"
   ]
  },
  {
   "cell_type": "code",
   "execution_count": null,
   "id": "55ca7555-c335-4c1a-8c59-dc27348dc546",
   "metadata": {},
   "outputs": [],
   "source": [
    "!python rl_visual.py --portfolio portfolio4 --stocks=AUD,CAD,USD --approach full_swing"
   ]
  },
  {
   "cell_type": "code",
   "execution_count": null,
   "id": "7df8c526-a352-45a8-a70b-f5c484e05b3d",
   "metadata": {},
   "outputs": [],
   "source": [
    "!python rl_visual.py --portfolio portfolio4 --stocks=AUD,CAD,USD --approach full_swing -- predict"
   ]
  },
  {
   "cell_type": "code",
   "execution_count": 1,
   "id": "988a74cc-ef96-47ce-b6bf-1dc035e484a6",
   "metadata": {},
   "outputs": [],
   "source": [
    "!rmdir /s /q data\\rl\\portfolio1\n",
    "!rmdir /s /q data\\rl\\portfolio2\n",
    "!rmdir /s /q data\\rl\\portfolio3\n",
    "!rmdir /s /q data\\rl\\portfolio4\n",
    "!rmdir /s /q data\\rl\\portfolio5\n",
    "!rmdir /s /q data\\rl\\portfolio6\n",
    "!rmdir /s /q data\\rl\\portfolio7\n",
    "!rmdir /s /q data\\rl\\portfolio8\n",
    "!rmdir /s /q data\\rl\\portfolio9"
   ]
  },
  {
   "cell_type": "code",
   "execution_count": 2,
   "id": "f4bd5d79-380a-42bb-b4c9-aa6f5c6489a8",
   "metadata": {},
   "outputs": [
    {
     "name": "stderr",
     "output_type": "stream",
     "text": [
      "[*********************100%***********************]  1 of 1 completed\n"
     ]
    },
    {
     "name": "stdout",
     "output_type": "stream",
     "text": [
      "Successfully saved USD data to data/rl/portfolio1/USD.csv\n",
      "\n",
      "First few rows of USD:\n",
      "         Date   Open   High    Low  Close  Volume\n",
      "0  2021-01-04  89.93  89.94  89.42  89.88       0\n",
      "1  2021-01-05  89.90  89.90  89.43  89.44       0\n",
      "2  2021-01-06  89.48  89.80  89.21  89.53       0\n",
      "3  2021-01-07  89.32  89.97  89.32  89.83       0\n",
      "4  2021-01-08  89.83  90.25  89.66  90.10       0\n",
      "\n",
      "==================================================\n",
      "\n"
     ]
    },
    {
     "name": "stderr",
     "output_type": "stream",
     "text": [
      "[*********************100%***********************]  1 of 1 completed\n"
     ]
    },
    {
     "name": "stdout",
     "output_type": "stream",
     "text": [
      "Successfully saved EUR data to data/rl/portfolio1/EUR.csv\n",
      "\n",
      "First few rows of EUR:\n",
      "         Date  Open  High   Low  Close  Volume\n",
      "0  2021-01-01  0.82  0.82  0.82   0.82       0\n",
      "1  2021-01-04  0.82  0.82  0.81   0.82       0\n",
      "2  2021-01-05  0.82  0.82  0.81   0.82       0\n",
      "3  2021-01-06  0.81  0.82  0.81   0.81       0\n",
      "4  2021-01-07  0.81  0.82  0.81   0.81       0\n",
      "\n",
      "==================================================\n",
      "\n"
     ]
    },
    {
     "name": "stderr",
     "output_type": "stream",
     "text": [
      "[*********************100%***********************]  1 of 1 completed\n"
     ]
    },
    {
     "name": "stdout",
     "output_type": "stream",
     "text": [
      "Successfully saved GBP data to data/rl/portfolio1/GBP.csv\n",
      "\n",
      "First few rows of GBP:\n",
      "         Date  Open  High   Low  Close  Volume\n",
      "0  2021-01-01  0.73  0.73  0.73   0.73       0\n",
      "1  2021-01-04  0.73  0.74  0.73   0.73       0\n",
      "2  2021-01-05  0.74  0.74  0.73   0.74       0\n",
      "3  2021-01-06  0.73  0.74  0.73   0.73       0\n",
      "4  2021-01-07  0.73  0.74  0.73   0.73       0\n",
      "\n",
      "==================================================\n",
      "\n"
     ]
    },
    {
     "name": "stderr",
     "output_type": "stream",
     "text": [
      "[*********************100%***********************]  1 of 1 completed\n"
     ]
    },
    {
     "name": "stdout",
     "output_type": "stream",
     "text": [
      "Successfully saved AUD data to data/rl/portfolio1/AUD.csv\n",
      "\n",
      "First few rows of AUD:\n",
      "         Date  Open  High   Low  Close  Volume\n",
      "0  2021-01-01  1.29  1.30  1.22   1.30       0\n",
      "1  2021-01-04  1.30  1.31  1.29   1.30       0\n",
      "2  2021-01-05  1.30  1.30  1.29   1.30       0\n",
      "3  2021-01-06  1.29  1.29  1.28   1.29       0\n",
      "4  2021-01-07  1.28  1.29  1.28   1.28       0\n",
      "\n",
      "==================================================\n",
      "\n"
     ]
    },
    {
     "name": "stderr",
     "output_type": "stream",
     "text": [
      "[*********************100%***********************]  1 of 1 completed\n"
     ]
    },
    {
     "name": "stdout",
     "output_type": "stream",
     "text": [
      "Successfully saved NZD data to data/rl/portfolio1/NZD.csv\n",
      "\n",
      "First few rows of NZD:\n",
      "         Date  Open  High   Low  Close  Volume\n",
      "0  2021-01-01  1.39  1.39  1.33   1.39       0\n",
      "1  2021-01-04  1.39  1.40  1.38   1.39       0\n",
      "2  2021-01-05  1.39  1.39  1.38   1.39       0\n",
      "3  2021-01-06  1.38  1.38  1.37   1.38       0\n",
      "4  2021-01-07  1.37  1.38  1.37   1.37       0\n",
      "\n",
      "==================================================\n",
      "\n"
     ]
    },
    {
     "name": "stderr",
     "output_type": "stream",
     "text": [
      "[*********************100%***********************]  1 of 1 completed\n"
     ]
    },
    {
     "name": "stdout",
     "output_type": "stream",
     "text": [
      "Successfully saved CAD data to data/rl/portfolio1/CAD.csv\n",
      "\n",
      "First few rows of CAD:\n",
      "         Date  Open  High   Low  Close  Volume\n",
      "0  2021-01-01  1.23  1.27  1.23   1.23       0\n",
      "1  2021-01-04  1.27  1.28  1.27   1.27       0\n",
      "2  2021-01-05  1.28  1.28  1.27   1.28       0\n",
      "3  2021-01-06  1.27  1.27  1.26   1.27       0\n",
      "4  2021-01-07  1.27  1.27  1.27   1.27       0\n",
      "\n",
      "==================================================\n",
      "\n"
     ]
    },
    {
     "name": "stderr",
     "output_type": "stream",
     "text": [
      "[*********************100%***********************]  1 of 1 completed\n"
     ]
    },
    {
     "name": "stdout",
     "output_type": "stream",
     "text": [
      "Successfully saved CNY data to data/rl/portfolio1/CNY.csv\n",
      "\n",
      "First few rows of CNY:\n",
      "         Date  Open  High   Low  Close  Volume\n",
      "0  2021-01-01  6.53  6.53  6.53   6.53       0\n",
      "1  2021-01-04  6.53  6.53  6.46   6.53       0\n",
      "2  2021-01-05  6.46  6.47  6.43   6.46       0\n",
      "3  2021-01-06  6.46  6.46  6.44   6.46       0\n",
      "4  2021-01-07  6.46  6.48  6.45   6.46       0\n",
      "\n",
      "==================================================\n",
      "\n"
     ]
    },
    {
     "name": "stderr",
     "output_type": "stream",
     "text": [
      "[*********************100%***********************]  1 of 1 completed\n"
     ]
    },
    {
     "name": "stdout",
     "output_type": "stream",
     "text": [
      "Successfully saved JPY data to data/rl/portfolio1/JPY.csv\n",
      "\n",
      "First few rows of JPY:\n",
      "         Date    Open    High     Low   Close  Volume\n",
      "0  2021-01-01  103.23  103.25  103.23  103.23       0\n",
      "1  2021-01-04  103.24  103.24  102.71  103.24       0\n",
      "2  2021-01-05  103.14  103.18  102.67  103.12       0\n",
      "3  2021-01-06  102.70  103.43  102.59  102.68       0\n",
      "4  2021-01-07  103.03  103.95  102.96  103.02       0\n",
      "\n",
      "==================================================\n",
      "\n"
     ]
    },
    {
     "name": "stderr",
     "output_type": "stream",
     "text": [
      "[*********************100%***********************]  1 of 1 completed\n"
     ]
    },
    {
     "name": "stdout",
     "output_type": "stream",
     "text": [
      "Successfully saved EMLC data to data/rl/portfolio1/EMLC.csv\n",
      "\n",
      "First few rows of EMLC:\n",
      "         Date   Open   High    Low  Close   Volume\n",
      "0  2021-01-04  33.42  33.48  33.25  33.27  1930100\n",
      "1  2021-01-05  33.22  33.39  33.17  33.36  1330200\n",
      "2  2021-01-06  33.26  33.37  33.21  33.27  3063100\n",
      "3  2021-01-07  33.06  33.08  32.81  32.85  3106500\n",
      "4  2021-01-08  32.98  33.03  32.77  32.90  1509900\n",
      "\n",
      "==================================================\n",
      "\n"
     ]
    },
    {
     "name": "stderr",
     "output_type": "stream",
     "text": [
      "[*********************100%***********************]  1 of 1 completed\n",
      "[*********************100%***********************]  1 of 1 completed"
     ]
    },
    {
     "name": "stdout",
     "output_type": "stream",
     "text": [
      "Successfully saved PLN data to data/rl/portfolio1/PLN.csv\n",
      "\n",
      "First few rows of PLN:\n",
      "         Date  Open  High   Low  Close  Volume\n",
      "0  2021-01-01  3.72  3.75  3.71   3.72       0\n",
      "1  2021-01-04  3.72  3.72  3.69   3.72       0\n",
      "2  2021-01-05  3.72  3.72  3.69   3.72       0\n",
      "3  2021-01-06  3.68  3.69  3.65   3.68       0\n",
      "4  2021-01-07  3.67  3.69  3.66   3.67       0\n",
      "\n",
      "==================================================\n",
      "\n"
     ]
    },
    {
     "name": "stderr",
     "output_type": "stream",
     "text": [
      "\n"
     ]
    },
    {
     "name": "stdout",
     "output_type": "stream",
     "text": [
      "Successfully saved KRW data to data/rl/portfolio1/KRW.csv\n",
      "\n",
      "First few rows of KRW:\n",
      "         Date     Open     High      Low    Close  Volume\n",
      "0  2021-01-01  1083.50  1088.50  1083.50  1084.65       0\n",
      "1  2021-01-04  1084.73  1086.47  1079.22  1084.73       0\n",
      "2  2021-01-05  1085.61  1089.73  1081.67  1086.62       0\n",
      "3  2021-01-06  1085.65  1088.59  1083.25  1086.45       0\n",
      "4  2021-01-07  1085.25  1096.00  1084.83  1086.95       0\n",
      "\n",
      "==================================================\n",
      "\n"
     ]
    },
    {
     "name": "stderr",
     "output_type": "stream",
     "text": [
      "[*********************100%***********************]  1 of 1 completed\n"
     ]
    },
    {
     "name": "stdout",
     "output_type": "stream",
     "text": [
      "Successfully saved MYR data to data/rl/portfolio1/MYR.csv\n",
      "\n",
      "First few rows of MYR:\n",
      "         Date  Open  High   Low  Close  Volume\n",
      "0  2021-01-01  4.02  4.02  4.02   4.02       0\n",
      "1  2021-01-04  4.01  4.02  3.99   4.02       0\n",
      "2  2021-01-05  4.01  4.02  4.00   4.00       0\n",
      "3  2021-01-06  4.01  4.02  4.00   4.01       0\n",
      "4  2021-01-07  4.01  4.04  4.01   4.01       0\n",
      "\n",
      "==================================================\n",
      "\n"
     ]
    },
    {
     "name": "stderr",
     "output_type": "stream",
     "text": [
      "[*********************100%***********************]  1 of 1 completed\n"
     ]
    },
    {
     "name": "stdout",
     "output_type": "stream",
     "text": [
      "Successfully saved SGD data to data/rl/portfolio1/SGD.csv\n",
      "\n",
      "First few rows of SGD:\n",
      "         Date  Open  High   Low  Close  Volume\n",
      "0  2021-01-01  1.32  1.32  1.32   1.32       0\n",
      "1  2021-01-04  1.32  1.32  1.32   1.32       0\n",
      "2  2021-01-05  1.32  1.32  1.32   1.32       0\n",
      "3  2021-01-06  1.32  1.32  1.32   1.32       0\n",
      "4  2021-01-07  1.32  1.33  1.32   1.32       0\n",
      "\n",
      "==================================================\n",
      "\n"
     ]
    },
    {
     "name": "stderr",
     "output_type": "stream",
     "text": [
      "[*********************100%***********************]  1 of 1 completed"
     ]
    },
    {
     "name": "stdout",
     "output_type": "stream",
     "text": [
      "Successfully saved INR data to data/rl/portfolio1/INR.csv\n",
      "\n",
      "First few rows of INR:\n",
      "         Date   Open   High    Low  Close  Volume\n",
      "0  2021-01-01  73.09  73.32  73.03  73.09       0\n",
      "1  2021-01-04  73.09  73.20  72.80  73.09       0\n",
      "2  2021-01-05  73.09  73.33  72.96  73.32       0\n",
      "3  2021-01-06  73.17  73.36  73.04  73.37       0\n",
      "4  2021-01-07  73.37  73.47  73.06  73.36       0\n",
      "\n",
      "==================================================\n",
      "\n",
      "Process completed.\n"
     ]
    },
    {
     "name": "stderr",
     "output_type": "stream",
     "text": [
      "\n"
     ]
    }
   ],
   "source": [
    "import yfinance as yf\n",
    "import pandas as pd\n",
    "import os\n",
    "# Buat folder jika belum ada\n",
    "os.makedirs('data/rl/portfolio1/', exist_ok=True)\n",
    "\n",
    "# Daftar aset\n",
    "assets = {\n",
    "    'USD': 'DX-Y.NYB',  # United States Dollar\n",
    "    'EUR': 'EUR=X',     # Euro\n",
    "    'GBP': 'GBP=X',     # British Pound\n",
    "    'AUD': 'AUD=X',     # Australian Dollar\n",
    "    'NZD': 'NZD=X',     # New Zealand Dollar\n",
    "    'CAD': 'CAD=X',     # Canadian Dollar\n",
    "    'CNY': 'CNY=X',     # Chinese Yuan\n",
    "    'JPY': 'JPY=X',     # Japanese Yen\n",
    "    'EMLC': 'EMLC',     # Emerging Markets Local Currency\n",
    "    'PLN': 'PLN=X',     # Polish Zloty\n",
    "    'KRW': 'KRW=X',     # South Korean Won\n",
    "    'MYR': 'MYR=X',     # Malaysian Ringgit\n",
    "    'SGD': 'SGD=X',      # Singapore Dollar\n",
    "    'INR': 'INR=X'\n",
    "}\n",
    "\n",
    "start_date = \"2021-01-01\"\n",
    "end_date = \"2023-12-31\"\n",
    "\n",
    "for asset_name, ticker in assets.items():\n",
    "    try:\n",
    "        # Unduh data\n",
    "        df = yf.download(ticker, start=start_date, end=end_date)\n",
    "\n",
    "        # Pastikan data tidak kosong\n",
    "        if df.empty:\n",
    "            print(f\"Warning: No data found for {asset_name}\")\n",
    "            continue\n",
    "\n",
    "        # Proses data\n",
    "        df = df.reset_index()  # Ubah Date dari index menjadi kolom\n",
    "        df = df[['Date', 'Open', 'High', 'Low', 'Close', 'Volume']]  # Pilih kolom yang diperlukan\n",
    "        df['Date'] = pd.to_datetime(df['Date']).dt.strftime('%Y-%m-%d')\n",
    "\n",
    "        # Bulatkan kolom numerik ke 2 desimal\n",
    "        for col in ['Open', 'High', 'Low', 'Close']:\n",
    "            df[col] = df[col].round(2)\n",
    "\n",
    "        # Bulatkan Volume ke bilangan bulat terdekat\n",
    "        df['Volume'] = df['Volume'].round(0).astype(int)\n",
    "\n",
    "        df = df.sort_values('Date')\n",
    "\n",
    "        # Cek data tidak ada yang hilang\n",
    "        if df.isnull().any().any():\n",
    "            print(f\"Warning: Missing values found in {asset_name}\")\n",
    "            df = df.dropna()  # Hapus baris dengan nilai yang hilang\n",
    "\n",
    "        # Simpan ke CSV dengan header\n",
    "        output_path = f'data/rl/portfolio1/{asset_name}.csv'\n",
    "        df.to_csv(output_path, index=False)\n",
    "        print(f\"Successfully saved {asset_name} data to {output_path}\")\n",
    "\n",
    "        # Baca file CSV yang baru saja disimpan\n",
    "        with open(output_path, 'r') as f:\n",
    "            lines = f.readlines()\n",
    "\n",
    "        # Tulis ulang file tanpa baris yang berisi \"Ticker\" atau ticker symbol\n",
    "        with open(output_path, 'w') as f:\n",
    "            f.write(lines[0])  # Tulis header\n",
    "            for line in lines[1:]:\n",
    "                if 'Ticker' not in line and ticker not in line:\n",
    "                    f.write(line)\n",
    "\n",
    "        # Tampilkan beberapa baris pertama untuk verifikasi\n",
    "        print(f\"\\nFirst few rows of {asset_name}:\")\n",
    "        print(pd.read_csv(output_path).head().to_string())\n",
    "        print(\"\\n\" + \"=\"*50 + \"\\n\")\n",
    "\n",
    "    except Exception as e:\n",
    "        print(f\"Error processing {asset_name}: {str(e)}\")\n",
    "\n",
    "print(\"Process completed.\")"
   ]
  },
  {
   "cell_type": "code",
   "execution_count": null,
   "id": "50623c6c-e63f-4800-8895-e4baa314aa8e",
   "metadata": {},
   "outputs": [],
   "source": []
  }
 ],
 "metadata": {
  "kernelspec": {
   "display_name": "Python 3 (ipykernel)",
   "language": "python",
   "name": "python3"
  },
  "language_info": {
   "codemirror_mode": {
    "name": "ipython",
    "version": 3
   },
   "file_extension": ".py",
   "mimetype": "text/x-python",
   "name": "python",
   "nbconvert_exporter": "python",
   "pygments_lexer": "ipython3",
   "version": "3.10.5"
  }
 },
 "nbformat": 4,
 "nbformat_minor": 5
}
